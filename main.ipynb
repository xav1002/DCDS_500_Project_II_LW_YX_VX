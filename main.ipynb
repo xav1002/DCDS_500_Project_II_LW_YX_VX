{
 "cells": [
  {
   "cell_type": "code",
   "execution_count": 1,
   "metadata": {},
   "outputs": [],
   "source": [
    "import scipy\n",
    "import numpy as np"
   ]
  },
  {
   "cell_type": "markdown",
   "metadata": {},
   "source": [
    "With the data Lemara Found:\n",
    "- \n",
    "- We can do separate but tied predicitons for each city \n",
    "    - The utility for each city by use type will vary (we can approximate by the amount of a given industry per city?)\n",
    "    - Phoenix, Pinal, Prescott, Santa Cruz, Tuscon\n",
    "    - Or should we do by basin?\n",
    "    - Or should we do AZ as a whole state? I'm leaning towards this, because AZ data isn't fully complete?"
   ]
  },
  {
   "cell_type": "markdown",
   "metadata": {},
   "source": [
    "Water supply:\n",
    "- \n",
    "- Via predictive modeling, will be given a total amount of water that can be used.\n",
    "    - Total amount of water used will then impact the amount of water predicted available for the next year.\n",
    "- Seasonal variations: look for papers that support certain patterns.\n",
    "    - Our model's time resolution is too low to consider seasonal changes, unless we want to increase the time resolution.\n",
    "\n",
    "- News article on climate-change impacts on water availability and demand from organisms: https://www.azcentral.com/story/news/local/arizona-environment/2023/03/27/earlier-warmer-spring-bad-for-arizona-wests-water-supply/70043251007/\n",
    "- Necessity of snowpack: https://www.neefusa.org/story/climate-change/american-wests-disappearing-winter-snowpack\n",
    "    - Maybe can use this to inform climate-change model, not so much seasonal water availability?"
   ]
  },
  {
   "cell_type": "markdown",
   "metadata": {},
   "source": [
    "Defining Optimization Targets: Maximizing Societal Utility\n",
    "- \n",
    "- Utilities:\n",
    "    - Industrial:\n",
    "        - There is a lower bound for this (e.g., power generation), but some flexibility (e.g., exported goods).\n",
    "        - Lower bound defined with linear constraint, and optimization objective defined with saturation function.\n",
    "    - Agricultural:\n",
    "        - There is a lower bound for this as well, but there is some flexibility (government would need to pay farmers to use less water).\n",
    "        - Lower bound defined with linear constraint, and optimization objective defined with saturation function.\n",
    "    - Municipal:\n",
    "        - These are more like constraints, must be met for drinking water, sanitation, etc. needs.\n",
    "        - Define with per-capital water consumption for essential uses (linear constraint)\n",
    "        - Can we as a city pay people not to water their lawns and use pools?\n",
    "- Need to sort through which water input/outputs are controllable and non-controllable\n",
    "\n",
    "- The marginal utility for each as a saturation function dy/dx=1-(x/(K+x)).\n",
    "    - Non-linear optimization objective.\n",
    "    - The marginal utility function of each type of use of water needs to based on how much water and utility is consumed/produced from that given usage now.\n",
    "    - U_k = alpha_k*ln(additional water usage+1)"
   ]
  }
 ],
 "metadata": {
  "kernelspec": {
   "display_name": ".venv",
   "language": "python",
   "name": "python3"
  },
  "language_info": {
   "codemirror_mode": {
    "name": "ipython",
    "version": 3
   },
   "file_extension": ".py",
   "mimetype": "text/x-python",
   "name": "python",
   "nbconvert_exporter": "python",
   "pygments_lexer": "ipython3",
   "version": "3.11.9"
  }
 },
 "nbformat": 4,
 "nbformat_minor": 2
}
